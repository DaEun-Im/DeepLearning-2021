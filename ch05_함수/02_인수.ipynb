{
 "metadata": {
  "language_info": {
   "codemirror_mode": {
    "name": "ipython",
    "version": 3
   },
   "file_extension": ".py",
   "mimetype": "text/x-python",
   "name": "python",
   "nbconvert_exporter": "python",
   "pygments_lexer": "ipython3",
   "version": "3.8.5"
  },
  "orig_nbformat": 2,
  "kernelspec": {
   "name": "python385jvsc74a57bd0dca0ade3e726a953b501b15e8e990130d2b7799f14cfd9f4271676035ebe5511",
   "display_name": "Python 3.8.5 64-bit ('base': conda)"
  }
 },
 "nbformat": 4,
 "nbformat_minor": 2,
 "cells": [
  {
   "source": [
    "### 함수의 인수\n",
    "- 위치 인수(positional argument)\n",
    "- 키워드 인수(keyword argumnet)\n",
    "- 디폴트 인수 (default argument)\n",
    "- 가변 인수 (variable-lenth argument)\n",
    "- 키워드 가변 인수 (keyword variable-length argument)"
   ],
   "cell_type": "markdown",
   "metadata": {}
  },
  {
   "source": [
    "- 키워드 인수 (keyword argument)"
   ],
   "cell_type": "markdown",
   "metadata": {}
  },
  {
   "cell_type": "code",
   "execution_count": 1,
   "metadata": {},
   "outputs": [],
   "source": [
    "def print_something(my_name, your_name):\n",
    "    print(f'Hello {your_name}, my name is {my_name}')"
   ]
  },
  {
   "cell_type": "code",
   "execution_count": 6,
   "metadata": {},
   "outputs": [
    {
     "output_type": "stream",
     "name": "stdout",
     "text": [
      "Hello seokbong, my name is daeun\nHello seokbong, my name is daeun\n"
     ]
    }
   ],
   "source": [
    "print_something('daeun', 'seokbong') #위치인수(positional argument)\n",
    "                #my_name  #your_name\n",
    "print_something(your_name='seokbong', my_name='daeun') #키워드인수(keyword argument)\n",
    "\n"
   ]
  },
  {
   "source": [
    "- 디폴트 인수 (default argument)"
   ],
   "cell_type": "markdown",
   "metadata": {}
  },
  {
   "cell_type": "code",
   "execution_count": 8,
   "metadata": {},
   "outputs": [],
   "source": [
    "def print_something2(my_name, your_name='Everyone'):\n",
    "    print(f'Hello {your_name}, my name is {my_name}')"
   ]
  },
  {
   "cell_type": "code",
   "execution_count": 10,
   "metadata": {},
   "outputs": [
    {
     "output_type": "stream",
     "name": "stdout",
     "text": [
      "Hello Everyone, my name is pporong\nHello Everyone, my name is pporong\n"
     ]
    }
   ],
   "source": [
    "print_something2('pporong','Everyone')\n",
    "print_something2('pporong')"
   ]
  },
  {
   "source": [
    "- 가변 인수 (variable ~ length argument)\n",
    ": 개수가 정해지지 않은 변수를 함수의 파라미터로 사용하는 방법\n",
    "\n",
    "\n",
    "\\- \\* 기호를 사용해서 함수의 파라미터를 표시한다\n",
    "\n",
    "\\- 가변인자로 입력된 값은 tuple type으로 사용된다 (참고로 tuple은 () 안에 데이터를 담는다)\n",
    "\n",
    "\\- 오직 한 개만 사용할 수 있고, 맨 마지막에서 사용되어야 한다\n",
    "\n",
    "\\- 보통 가변인자 이름은 args를 약속처럼 사용한다"
   ],
   "cell_type": "markdown",
   "metadata": {}
  },
  {
   "cell_type": "code",
   "execution_count": 12,
   "metadata": {},
   "outputs": [],
   "source": [
    "def summation(*args):\n",
    "    return sum(args)   #args라는게 뭐가 들어올지 몰라도 나는 이 args를 풀어서"
   ]
  },
  {
   "cell_type": "code",
   "execution_count": 13,
   "metadata": {},
   "outputs": [
    {
     "output_type": "stream",
     "name": "stdout",
     "text": [
      "3\n10\n15\n"
     ]
    }
   ],
   "source": [
    "print(summation(1,2))\n",
    "print(summation(1,2,3,4))\n",
    "print(summation(1,2,3,4,5))"
   ]
  },
  {
   "cell_type": "code",
   "execution_count": 14,
   "metadata": {},
   "outputs": [],
   "source": [
    "def summation2(a,b,*args):\n",
    "    return a + b + sum(args)  # a, b 는 무조건 오고 args 는 올 수도 안 올수도 (갯수 모름)"
   ]
  },
  {
   "cell_type": "code",
   "execution_count": 15,
   "metadata": {},
   "outputs": [
    {
     "output_type": "stream",
     "name": "stdout",
     "text": [
      "3\n10\n15\n"
     ]
    }
   ],
   "source": [
    "print(summation(1,2))\n",
    "print(summation(1,2,3,4))\n",
    "print(summation(1,2,3,4,5))"
   ]
  },
  {
   "cell_type": "code",
   "execution_count": 23,
   "metadata": {},
   "outputs": [],
   "source": [
    "# 위치인수는 항상 가변인수보다 앞에 나와야 한다.\n",
    "\n",
    "# 오류\n",
    "def summation3(*args, c):\n",
    "    return sum(args) + c\n"
   ]
  },
  {
   "cell_type": "code",
   "execution_count": 142,
   "metadata": {},
   "outputs": [
    {
     "output_type": "stream",
     "name": "stdout",
     "text": [
      "3\n"
     ]
    }
   ],
   "source": [
    "print(summation3(1,2))"
   ]
  },
  {
   "source": [
    "-  키워드 가변 인수 (keyword variable-length argument)\n",
    "\n",
    "\n",
    "\n",
    "\\- *args와 다른 점이라면, **kwargs는 키워드로 이루어진 복수의 인자를 받는다\n",
    "(정확히는, 정해지지 않은 수의 키워드로 이루어진 인자)\n",
    "\n",
    "\\- **kwargs로 전달받은 인자는 함수 내에서 dictionary 처럼 다룰 수 있다"
   ],
   "cell_type": "markdown",
   "metadata": {}
  },
  {
   "cell_type": "code",
   "execution_count": 132,
   "metadata": {},
   "outputs": [],
   "source": [
    "def kwargs_test(**kwargs):\n",
    "    print(kwargs)"
   ]
  },
  {
   "cell_type": "code",
   "execution_count": 133,
   "metadata": {},
   "outputs": [
    {
     "output_type": "stream",
     "name": "stdout",
     "text": [
      "{'first': 3, 'second': 4, 'third': 5}\n"
     ]
    }
   ],
   "source": [
    "kwargs_test(first=3, second=4, third=5)  #fisrt, second, third=키워드"
   ]
  },
  {
   "cell_type": "code",
   "execution_count": null,
   "metadata": {},
   "outputs": [],
   "source": [
    "# {'first': 3, 'second': 4, 'third': 5}\n",
    "\n",
    "# 딕셔너리\n",
    "#{ key:value, key:value ... }"
   ]
  },
  {
   "cell_type": "code",
   "execution_count": 45,
   "metadata": {},
   "outputs": [
    {
     "output_type": "stream",
     "name": "stdout",
     "text": [
      "3\n"
     ]
    }
   ],
   "source": [
    "my_dict = {'first':3, 'second':4, 'third':5}\n",
    "print(my_dict['first'])   #key값 'first' 의 value값 추출"
   ]
  },
  {
   "cell_type": "code",
   "execution_count": 145,
   "metadata": {},
   "outputs": [],
   "source": [
    "def kwargs_text2(**kwargs):\n",
    "    print(kwargs)\n",
    "    print(f\"First value is {kwargs['first']}\")\n",
    "    print(f\"Second value is {kwargs['second']}\")\n",
    "    print( \"Third value is {third}\".format(**kwargs))"
   ]
  }
 ]
}