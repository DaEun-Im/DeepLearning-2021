{
 "metadata": {
  "language_info": {
   "codemirror_mode": {
    "name": "ipython",
    "version": 3
   },
   "file_extension": ".py",
   "mimetype": "text/x-python",
   "name": "python",
   "nbconvert_exporter": "python",
   "pygments_lexer": "ipython3",
   "version": "3.8.5"
  },
  "orig_nbformat": 2,
  "kernelspec": {
   "name": "python385jvsc74a57bd0dca0ade3e726a953b501b15e8e990130d2b7799f14cfd9f4271676035ebe5511",
   "display_name": "Python 3.8.5 64-bit ('base': conda)"
  }
 },
 "nbformat": 4,
 "nbformat_minor": 2,
 "cells": [
  {
   "source": [
    "## 5장. 함수\n",
    "### 함수 기초"
   ],
   "cell_type": "markdown",
   "metadata": {}
  },
  {
   "cell_type": "code",
   "execution_count": 8,
   "metadata": {},
   "outputs": [],
   "source": [
    "def calculate_rectangle_area(x, y):\n",
    "    return x*y"
   ]
  },
  {
   "cell_type": "code",
   "execution_count": 9,
   "metadata": {},
   "outputs": [
    {
     "output_type": "execute_result",
     "data": {
      "text/plain": [
       "80"
      ]
     },
     "metadata": {},
     "execution_count": 9
    }
   ],
   "source": [
    "calculate_rectangle_area(10,8)"
   ]
  },
  {
   "cell_type": "code",
   "execution_count": 11,
   "metadata": {},
   "outputs": [],
   "source": [
    "import math\n",
    "def calculate_circle_area(radius):\n",
    "    return math.pi * radius * radius"
   ]
  },
  {
   "cell_type": "code",
   "execution_count": 14,
   "metadata": {},
   "outputs": [
    {
     "output_type": "stream",
     "name": "stdout",
     "text": [
      "반지름이 10인 원의 넓이는 314.1592653589793입니다.\n반지름이 10인 원의 넓이는 314.16입니다.\n"
     ]
    }
   ],
   "source": [
    "r = 10\n",
    "area = calculate_circle_area(r)\n",
    "print(f'반지름이 {r}인 원의 넓이는 {area}입니다.')\n",
    "print(f'반지름이 {r}인 원의 넓이는 {area:.2f}입니다.')  #:.2f를 통하여 소수점 이하 두자리까지만 출력"
   ]
  },
  {
   "cell_type": "code",
   "execution_count": 15,
   "metadata": {},
   "outputs": [],
   "source": [
    "# 숫자만 가능한 palindrome 함수\n",
    "def is_palindrome(number):\n",
    "    s = str(number)\n",
    "    return s == s[::-1]"
   ]
  },
  {
   "cell_type": "code",
   "execution_count": 16,
   "metadata": {},
   "outputs": [
    {
     "output_type": "execute_result",
     "data": {
      "text/plain": [
       "(True, False)"
      ]
     },
     "metadata": {},
     "execution_count": 16
    }
   ],
   "source": [
    "is_palindrome(12321), is_palindrome(45645)"
   ]
  },
  {
   "cell_type": "code",
   "execution_count": 23,
   "metadata": {},
   "outputs": [],
   "source": [
    "# 숫자와 문자 둘 다 가능한 palindrome 함수\n",
    "def is_palindrome(s):\n",
    "    return s == s[::-1]"
   ]
  },
  {
   "cell_type": "code",
   "execution_count": 22,
   "metadata": {},
   "outputs": [
    {
     "output_type": "execute_result",
     "data": {
      "text/plain": [
       "(True, True)"
      ]
     },
     "metadata": {},
     "execution_count": 22
    }
   ],
   "source": [
    "is_palindrome(str(12321)), is_palindrome('madam')"
   ]
  },
  {
   "source": [
    "## 함수 심화\n",
    "- Scope Rule"
   ],
   "cell_type": "markdown",
   "metadata": {}
  },
  {
   "cell_type": "code",
   "execution_count": 27,
   "metadata": {},
   "outputs": [
    {
     "output_type": "stream",
     "name": "stdout",
     "text": [
      "I love London!\nI love Paris!\n"
     ]
    }
   ],
   "source": [
    "def f():\n",
    "    # 함수 안에 있는 변수 s 는 지역 변수임\n",
    "    s = 'I love London!'\n",
    "    print(s)\n",
    "\n",
    "# 함수 밖에 있는 변수 s 는 전역(global) 변수임\n",
    "s = 'I love Paris!'\n",
    "f()\n",
    "print(s)\n",
    "\n",
    "#s 라는 동일한 변수 선언했지만, 이름만 같을 뿐 두 개는 별개다.\n",
    "#위에껀 로컬변수, 밑에껀 글로벌 변수\n",
    "#다른 변수이므로 London, Paris 각각의 문장이 출력됨"
   ]
  },
  {
   "cell_type": "code",
   "execution_count": 25,
   "metadata": {},
   "outputs": [
    {
     "output_type": "stream",
     "name": "stdout",
     "text": [
      "I love Paris!\nI love Paris!\n"
     ]
    }
   ],
   "source": [
    "def f():\n",
    "    print(s)         # 2) 지역변수 안에서 쓰일 수 있다. 전역변수를 갖다 쓴 것\n",
    "\n",
    "s = 'I love Paris!'  # 1) 전역변수이므로\n",
    "f()\n",
    "print(s)"
   ]
  },
  {
   "cell_type": "code",
   "execution_count": 36,
   "metadata": {},
   "outputs": [
    {
     "output_type": "stream",
     "name": "stdout",
     "text": [
      "I love London!\nI love London!\n"
     ]
    }
   ],
   "source": [
    "# 함수 안에서 전역 변수의 값을 변경하려면 global 키워드를 사용해야 한다.\n",
    "# 다음과 같이 함수 안에서 global에 전역 변수의 이름을 지정해줍니다.\n",
    "# global 전역변수\n",
    "\n",
    "def f():  \n",
    "    global s\n",
    "    s = 'I love London!'    # s 는 전역변수\n",
    "    print(s)\n",
    "\n",
    "s = 'I love Paris!'\n",
    "f()\n",
    "print(s)\n"
   ]
  },
  {
   "source": [
    "#### n! = n(n-1)!\n",
    "ex. 5! = 5 x 4!\n",
    "ex. 4! = 3 x 2! \n",
    "\n",
    "+) 0! = 1"
   ],
   "cell_type": "markdown",
   "metadata": {}
  },
  {
   "source": [
    "- 재귀 호출 (Recursive call)"
   ],
   "cell_type": "markdown",
   "metadata": {}
  },
  {
   "cell_type": "code",
   "execution_count": 34,
   "metadata": {},
   "outputs": [],
   "source": [
    "def factorial(n):\n",
    "    if n == 0:\n",
    "        return 1\n",
    "    return n * factorial(n-1)"
   ]
  },
  {
   "cell_type": "code",
   "execution_count": 35,
   "metadata": {},
   "outputs": [
    {
     "output_type": "execute_result",
     "data": {
      "text/plain": [
       "120"
      ]
     },
     "metadata": {},
     "execution_count": 35
    }
   ],
   "source": [
    "factorial(5)"
   ]
  },
  {
   "cell_type": "code",
   "execution_count": 37,
   "metadata": {},
   "outputs": [],
   "source": [
    "def fibo(n):\n",
    "    if n == 2 or n == 1:\n",
    "        return 1\n",
    "    return fibo(n-1) + fibo(n-2)"
   ]
  },
  {
   "cell_type": "code",
   "execution_count": 38,
   "metadata": {},
   "outputs": [
    {
     "output_type": "stream",
     "name": "stdout",
     "text": [
      "fibo(1) = 1\nfibo(2) = 1\nfibo(3) = 2\nfibo(4) = 3\nfibo(5) = 5\nfibo(6) = 8\nfibo(7) = 13\nfibo(8) = 21\nfibo(9) = 34\nfibo(10) = 55\n"
     ]
    }
   ],
   "source": [
    "for i in range(1,11):\n",
    "    print(f'fibo({i}) = {fibo(i)}')"
   ]
  },
  {
   "cell_type": "code",
   "execution_count": null,
   "metadata": {},
   "outputs": [],
   "source": []
  }
 ]
}