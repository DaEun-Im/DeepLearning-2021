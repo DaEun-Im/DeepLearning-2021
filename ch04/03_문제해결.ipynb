{
 "metadata": {
  "language_info": {
   "codemirror_mode": {
    "name": "ipython",
    "version": 3
   },
   "file_extension": ".py",
   "mimetype": "text/x-python",
   "name": "python",
   "nbconvert_exporter": "python",
   "pygments_lexer": "ipython3",
   "version": "3.8.5"
  },
  "orig_nbformat": 2,
  "kernelspec": {
   "name": "python385jvsc74a57bd0dca0ade3e726a953b501b15e8e990130d2b7799f14cfd9f4271676035ebe5511",
   "display_name": "Python 3.8.5 64-bit ('base': conda)"
  }
 },
 "nbformat": 4,
 "nbformat_minor": 2,
 "cells": [
  {
   "source": [
    "### 1. 구구단 계산기"
   ],
   "cell_type": "markdown",
   "metadata": {}
  },
  {
   "cell_type": "code",
   "execution_count": 2,
   "metadata": {},
   "outputs": [
    {
     "output_type": "stream",
     "name": "stdout",
     "text": [
      "6 x 1 = 6\n6 x 2 = 12\n6 x 3 = 18\n6 x 4 = 24\n6 x 5 = 30\n6 x 6 = 36\n6 x 7 = 42\n6 x 8 = 48\n6 x 9 = 54\n"
     ]
    }
   ],
   "source": [
    "# 구구단 6단\n",
    "\n",
    "n = 6\n",
    "for i in range(1,10):\n",
    "    print(f'{n} x {i} = {n*i}')\n",
    "\n"
   ]
  },
  {
   "source": [
    "### 2. 문자열 역순 출력"
   ],
   "cell_type": "markdown",
   "metadata": {}
  },
  {
   "cell_type": "code",
   "execution_count": 11,
   "metadata": {},
   "outputs": [
    {
     "output_type": "stream",
     "name": "stdout",
     "text": [
      " \n"
     ]
    }
   ],
   "source": [
    "sentence = input()\n",
    "reverse_sentence = ''    # 아무런 글자가 들어가지 않았지만, string 타입으로 만들어 놓은 것 \n",
    "                         # 기존 문자열을 역순으로 담아줄 빈 문자열 선언\n",
    "for char in sentence:\n",
    "    reverse_sentence = char + reverse_sentence\n",
    "print(sentence, reverse_sentence)"
   ]
  },
  {
   "source": [
    "### 3. 십진수를 이진수로 변환하는 코드"
   ],
   "cell_type": "markdown",
   "metadata": {}
  },
  {
   "cell_type": "code",
   "execution_count": 15,
   "metadata": {},
   "outputs": [
    {
     "output_type": "stream",
     "name": "stdout",
     "text": [
      "10100\n"
     ]
    }
   ],
   "source": [
    "num = 20  # 십진수 값\n",
    "answer = ''  # 이진수 값을 저장할 NULL String\n",
    "while num > 0:\n",
    "    remainder = num % 2   #나머지\n",
    "    num = num // 2        #몫\n",
    "    answer = str(remainder) + answer\n",
    "print(answer)"
   ]
  },
  {
   "source": [
    "### 4. 숫자 찾기 게임"
   ],
   "cell_type": "markdown",
   "metadata": {}
  },
  {
   "cell_type": "code",
   "execution_count": 2,
   "metadata": {},
   "outputs": [
    {
     "output_type": "stream",
     "name": "stdout",
     "text": [
      "입력한 숫자 4은/는 숫자가 작습니다.\n",
      "입력한 숫자 5은/는 숫자가 작습니다.\n",
      "입력한 숫자 9은/는 숫자가 작습니다.\n",
      "입력한 숫자 0은/는 숫자가 작습니다.\n",
      "입력한 숫자 22은/는 숫자가 작습니다.\n",
      "입력한 숫자 434은/는 너무 큽니다.\n",
      "입력한 숫자 33은/는 너무 큽니다.\n",
      "입력한 숫자 31은/는 너무 큽니다.\n",
      "빙고. 정답은 30 !!!\n"
     ]
    }
   ],
   "source": [
    "import random\n",
    "\n",
    "random_number = random.randint(1,100)  # 1~100사이 정수 난수 발생\n",
    "\n",
    "while True:    #무한루프실행\n",
    "    guess = int(input('1~100사이의 정수를 찾아보세요.'))\n",
    "    if guess ==  random_number:\n",
    "        print(f'빙고. 정답은 {guess} !!!')\n",
    "        break    #정답을 맞혔으므로 break 실행\n",
    "    if guess > random_number:\n",
    "        print(f'입력한 숫자 {guess}은/는 너무 큽니다.')\n",
    "    else:\n",
    "        print(f'입력한 숫자 {guess}은/는 숫자가 작습니다.')"
   ]
  },
  {
   "source": [
    "### 5-1 별표 그리기"
   ],
   "cell_type": "markdown",
   "metadata": {}
  },
  {
   "cell_type": "code",
   "execution_count": 13,
   "metadata": {},
   "outputs": [
    {
     "output_type": "stream",
     "name": "stdout",
     "text": [
      "+\n++\n+++\n++++\n+++++\n"
     ]
    }
   ],
   "source": [
    "for i in range(1,6):\n",
    "    for k in range(i):\n",
    "        print('+',sep='',end='')\n",
    "    print()"
   ]
  },
  {
   "source": [
    "- sep=\" \" \n",
    " 이 옵션을 이용하게 되면 print문의 출력문들 사이에 해당하는 내용을 넣을 수 있습니다. 기본 값으로는 공백이 들어가 있으며 이를 사용해 원하는 문자를 입력할 수 있습니다.\n",
    "\n",
    "- end=\" \"\n",
    " 이 옵션의 경우 print 문을 이용해 출력을 완료한 뒤의 내용을 수정할 수 있습니다. 기본 값으로는 개행(\\n)이 들어가 있으며 이를 사용해 개행을 없애거나 원하는 문자를 입력할 수 있습니다."
   ],
   "cell_type": "markdown",
   "metadata": {}
  }
 ]
}