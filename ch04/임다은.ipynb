{
 "metadata": {
  "language_info": {
   "codemirror_mode": {
    "name": "ipython",
    "version": 3
   },
   "file_extension": ".py",
   "mimetype": "text/x-python",
   "name": "python",
   "nbconvert_exporter": "python",
   "pygments_lexer": "ipython3",
   "version": "3.8.5"
  },
  "orig_nbformat": 2,
  "kernelspec": {
   "name": "python385jvsc74a57bd0dca0ade3e726a953b501b15e8e990130d2b7799f14cfd9f4271676035ebe5511",
   "display_name": "Python 3.8.5 64-bit ('base': conda)"
  }
 },
 "nbformat": 4,
 "nbformat_minor": 2,
 "cells": [
  {
   "source": [
    "### 조건문 연습문제 과제"
   ],
   "cell_type": "markdown",
   "metadata": {}
  },
  {
   "source": [
    "1. 연도를 입력으로 받아 윤년인지 아닌지를 출력하는 프로그램을 작성하시오. 윤년은 연도가 4의 배수이면서, 100의 배수가 아닐 때 또는 400의 배수일 때이다. 예를들어, 2012년은 4의 배수라서 윤년이지만, 1900년은 4의 배수이지만, 100의 배수이기 때문에 윤년이 아니다. 하지만, 2000년은 400의 배수이기 때문에 윤년이다.)\n"
   ],
   "cell_type": "markdown",
   "metadata": {}
  },
  {
   "cell_type": "code",
   "execution_count": null,
   "metadata": {},
   "outputs": [],
   "source": [
    "year = int( input('연도를 입력하세요.') )\n",
    "if year % 400 == 0:\n",
    "    print('윤년입니다.')\n",
    "elif year % 100 != 0 and year % 4 == 0:\n",
    "    print('윤년입니다.')\n",
    "else:\n",
    "    print('윤년이 아닙니다.')"
   ]
  },
  {
   "source": [
    "2. 본인의 생일을 1998 12 15 과 같이 년 월 일로 입력받아 오늘 날짜의 만 나이를 구하는 프로그램을 작성하시오"
   ],
   "cell_type": "markdown",
   "metadata": {}
  },
  {
   "cell_type": "code",
   "execution_count": null,
   "metadata": {},
   "outputs": [],
   "source": [
    "from datetime import date\n",
    "today = date.today()\n",
    "today.year, today.month, today.day"
   ]
  },
  {
   "cell_type": "code",
   "execution_count": null,
   "metadata": {},
   "outputs": [],
   "source": [
    "# 세는 나이\n",
    "age = today.year - birth_year + 1\n",
    "age"
   ]
  },
  {
   "cell_type": "code",
   "execution_count": null,
   "metadata": {},
   "outputs": [],
   "source": [
    "# 만 나이\n",
    "birth_year = int(input('출생년도를 입력하세요:'))\n",
    "birth_month = int(input('출생 월을 입력하세요:'))\n",
    "birth_day= int(input('출생 일자를 입력하세요:'))\n",
    "\n",
    "if birth_month >= today.month and birth_day >= today.day:\n",
    "    print(age - 1)\n",
    "else:\n",
    "    print(age - 2)"
   ]
  },
  {
   "source": [
    "3. 세 자연수 a, b, c 가 피타고라스 정리 a^2 + b^2 = c^2 를 만족하면 피타고라스 수라고 부른다. (여기서 a < b < c 이고 a + b > c) 예를 들면, 3^2 + 4^2 = 9 + 16 = 25 = 5^2 이므로 3, 4, 5는 피타고라스 수입니다.\n",
    "a + b + c = 1000 인 피타고라스 수를 구하시오. (답은 한가지 뿐이다.)\n"
   ],
   "cell_type": "markdown",
   "metadata": {}
  },
  {
   "cell_type": "code",
   "execution_count": null,
   "metadata": {},
   "outputs": [],
   "source": [
    "for a in range(1,1001):\n",
    "    for b in range(1,1001):\n",
    "        c=1000-a-b\n",
    "        if a**2+b**2 == (1000-a-b)**2 and a < b < 1000-a-b:\n",
    "            print(a,b,c)"
   ]
  },
  {
   "source": [
    "### 반복문 연습문제 과제"
   ],
   "cell_type": "markdown",
   "metadata": {}
  },
  {
   "source": [
    "1.(별 그리기)\n",
    "5이상 9이하의 홀수를 입력받아 다이아몬드 형태의 별을 출력하는 프로그램을 작성하시오.\n",
    "예) N=7"
   ],
   "cell_type": "markdown",
   "metadata": {}
  },
  {
   "source": [
    "2. 디지털 시계에 하루동안(00:00~23:59) 3이 표시되는 시간을 초로 환산하면 총 몇 초(second) 일까요?- 디지털 시계는 하루동안 다음과 같이 시:분(00:00~23:59)으로 표시됨. 00:00 (60초간 표시)\t00:01 \t…\t\t23:59\n"
   ],
   "cell_type": "markdown",
   "metadata": {}
  },
  {
   "source": [
    "3. 1~1000에서 각 숫자의 개수를 구하시오.\n",
    "- 예로 10 ~ 15 까지의 각 숫자의 개수를 구해보자.\t\t10 = 1, 0 /\n",
    "11 = 1, 1\t/\t12 = 1, 2\t/\t13 = 1, 3\t/\t14 = 1, 4\t/  15 = 1, 5\n",
    "그러므로 이 경우의 답은 0:1개, 1:7개, 2:1개, 3:1개, 4:1개, 5:1개\n"
   ],
   "cell_type": "markdown",
   "metadata": {}
  },
  {
   "cell_type": "code",
   "execution_count": null,
   "metadata": {},
   "outputs": [],
   "source": [
    "list=[0,0,0,0,0,0,0,0,0,0] \n",
    "for i in range(1,1001): \n",
    "  for j in (str(i)):\n",
    "    list[int(j)]+=1 \n",
    "\n",
    "for k in range(10): \n",
    "  print(k,\":\",list[k],\"개\")"
   ]
  },
  {
   "source": [
    "4. 자기 자신을 제외한 모든 양의 약수들의 합이 자기 자신이 되는 자연수를 완전수라고 한다.예를 들면, 6과 28은 완전수이다.\t\t6=1+2+3         # 1,2,3은 각각 6의 약수 \t\t28=1+2+4+7+14   # 1,2,4,7,14는 각각 28의 약수. 입력으로 자연수 N을 받고, 출력으로 N 이하의 모든 완전수를 출력하는 코드를 작성하시오.\n",
    "\n"
   ],
   "cell_type": "markdown",
   "metadata": {}
  },
  {
   "cell_type": "code",
   "execution_count": null,
   "metadata": {},
   "outputs": [],
   "source": [
    "a = int(input('자연수를 입력하시오.'))\n",
    "c= []\n",
    "for i in range(1, a+1):           \n",
    "    b= []\n",
    "    for j in range(1, i):        \n",
    "        if i % j == 0:\n",
    "            b.append(j)\n",
    "    if sum(b) == i:\n",
    "            c.append(i)\n",
    "print(c)"
   ]
  },
  {
   "source": [
    "5."
   ],
   "cell_type": "markdown",
   "metadata": {}
  },
  {
   "cell_type": "code",
   "execution_count": null,
   "metadata": {},
   "outputs": [],
   "source": [
    "a = int(input('자연수를 입력하시오.'))\n",
    "b=[]\n",
    "d=[]\n",
    "\n",
    "for i in range(1,a+1):\n",
    "    b.append(i)\n",
    "    c = sum(b)**2\n",
    "    d.append(i**2)\n",
    "    e = sum(d)\n",
    "    \n",
    "print(c-e)"
   ]
  }
 ]
}