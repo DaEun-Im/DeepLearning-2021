{
 "metadata": {
  "language_info": {
   "codemirror_mode": {
    "name": "ipython",
    "version": 3
   },
   "file_extension": ".py",
   "mimetype": "text/x-python",
   "name": "python",
   "nbconvert_exporter": "python",
   "pygments_lexer": "ipython3",
   "version": "3.8.5"
  },
  "orig_nbformat": 2,
  "kernelspec": {
   "name": "python385jvsc74a57bd0dca0ade3e726a953b501b15e8e990130d2b7799f14cfd9f4271676035ebe5511",
   "display_name": "Python 3.8.5 64-bit ('base': conda)"
  }
 },
 "nbformat": 4,
 "nbformat_minor": 2,
 "cells": [
  {
   "source": [
    "# 조건문"
   ],
   "cell_type": "markdown",
   "metadata": {}
  },
  {
   "source": [
    "### 1) if-else"
   ],
   "cell_type": "markdown",
   "metadata": {}
  },
  {
   "cell_type": "code",
   "execution_count": 4,
   "metadata": {},
   "outputs": [
    {
     "output_type": "stream",
     "name": "stdout",
     "text": [
      "Oh!no. You are not accepted\n"
     ]
    }
   ],
   "source": [
    "age = int(input('Tell me your age.'))\n",
    "\n",
    "if age < 30:\n",
    "    print('Welcome to the Club')\n",
    "else:\n",
    "    print('Oh!no. You are not accepted')"
   ]
  },
  {
   "cell_type": "code",
   "execution_count": 7,
   "metadata": {},
   "outputs": [
    {
     "output_type": "stream",
     "name": "stdout",
     "text": [
      "Oh!no. You are not accepted\n"
     ]
    }
   ],
   "source": [
    "age = int(input('Tell me your age.'))\n",
    "\n",
    "if age > 15 and age < 30:\n",
    "    print('Welcome to the Club')\n",
    "else:\n",
    "    print('Oh!no. You are not accepted')"
   ]
  },
  {
   "cell_type": "code",
   "execution_count": 10,
   "metadata": {},
   "outputs": [
    {
     "output_type": "stream",
     "name": "stdout",
     "text": [
      "Oh!no. You are not accepted\n"
     ]
    }
   ],
   "source": [
    "# 조건식을 between 개념으로 사용할 수 있음\n",
    "age = int(input('Tell me your age.'))\n",
    "\n",
    "if 15< age <30:\n",
    "    print('Welcome to the Club')\n",
    "else:\n",
    "    print('Oh!no. You are not accepted')"
   ]
  },
  {
   "cell_type": "code",
   "execution_count": 9,
   "metadata": {},
   "outputs": [
    {
     "output_type": "stream",
     "name": "stdout",
     "text": [
      "Welcome to the Club\n"
     ]
    }
   ],
   "source": [
    "# 조건문의 실행문이 단문일 경우에는 인덴테이션 무시해도 무방\n",
    "age = int(input('Tell me your age.'))\n",
    "\n",
    "if age < 30: print('Welcome to the Club')\n",
    "else: print('Oh!no. You are not accepted')"
   ]
  },
  {
   "source": [
    "### - 3항 연산자"
   ],
   "cell_type": "markdown",
   "metadata": {}
  },
  {
   "cell_type": "code",
   "execution_count": 13,
   "metadata": {},
   "outputs": [
    {
     "output_type": "stream",
     "name": "stdout",
     "text": [
      "You are not accepted.\n"
     ]
    }
   ],
   "source": [
    "# true_value if condition else false_value\n",
    "\n",
    "age = int(input('Tell me your age.'))\n",
    "msg = 'Welcome to the club' if 15 < age < 30 else 'You are not accepted.'\n",
    "print(msg)\n"
   ]
  },
  {
   "source": [
    "### - 조건의 판단"
   ],
   "cell_type": "markdown",
   "metadata": {}
  },
  {
   "cell_type": "code",
   "execution_count": 15,
   "metadata": {},
   "outputs": [
    {
     "output_type": "execute_result",
     "data": {
      "text/plain": [
       "True"
      ]
     },
     "metadata": {},
     "execution_count": 15
    }
   ],
   "source": [
    "# or 앞 쪽의 값이 True 면 or 이후의 값은 계산하지 않음\n",
    "3 == 3 or 99999"
   ]
  },
  {
   "cell_type": "code",
   "execution_count": 16,
   "metadata": {},
   "outputs": [
    {
     "output_type": "execute_result",
     "data": {
      "text/plain": [
       "99990"
      ]
     },
     "metadata": {},
     "execution_count": 16
    }
   ],
   "source": [
    "# or 앞 쪽의 값이 False면 or 연산의 값은 무조건 or 이후의 값\n",
    "3 ==2 or 99990"
   ]
  },
  {
   "source": [
    "### 2) if - elif - else"
   ],
   "cell_type": "markdown",
   "metadata": {}
  },
  {
   "cell_type": "code",
   "execution_count": 19,
   "metadata": {},
   "outputs": [
    {
     "output_type": "stream",
     "name": "stdout",
     "text": [
      "D\n"
     ]
    }
   ],
   "source": [
    "# 조건의 포함 범위가 갈수록 커지는 방향으로 if 문을 작성하면 틀림\n",
    "score = 90\n",
    "if score >= 90:\n",
    "    grade = \"A\"\n",
    "if score >= 80:\n",
    "    grade = \"B\"\n",
    "if score >= 70:\n",
    "    grade = \"C\"\n",
    "if score >= 60:\n",
    "    grade = \"D\"\n",
    "if score < 60:\n",
    "    grade = \"F\"\n",
    "print(grade)\n"
   ]
  },
  {
   "cell_type": "code",
   "execution_count": 26,
   "metadata": {},
   "outputs": [
    {
     "output_type": "stream",
     "name": "stdout",
     "text": [
      "A\n"
     ]
    }
   ],
   "source": [
    "# 해결책 1 - 포함 범위가 줄어드는 방향으로\n",
    "score = 90\n",
    "if score < 60:\n",
    "    grade = \"F\"\n",
    "if score >= 60:\n",
    "    grade = \"D\"\n",
    "if score >= 70:\n",
    "    grade = \"C\"\n",
    "if score >= 80:\n",
    "    grade = \"B\"\n",
    "if score >= 90:\n",
    "    grade = \"A\"\n",
    "print(grade)"
   ]
  },
  {
   "cell_type": "code",
   "execution_count": 25,
   "metadata": {},
   "outputs": [
    {
     "output_type": "stream",
     "name": "stdout",
     "text": [
      "A\n"
     ]
    }
   ],
   "source": [
    "# 해결책 2 - if - elif - else\n",
    "score = 90\n",
    "if score >= 90:\n",
    "    grade = \"A\"\n",
    "elif score >= 80:\n",
    "    grade = \"B\"\n",
    "elif score >= 70:\n",
    "    grade = \"C\"\n",
    "elif score >= 60:\n",
    "    grade = \"D\"\n",
    "else:\n",
    "    grade = \"F\"\n",
    "print(grade)"
   ]
  },
  {
   "cell_type": "code",
   "execution_count": 28,
   "metadata": {},
   "outputs": [
    {
     "output_type": "stream",
     "name": "stdout",
     "text": [
      "C\n"
     ]
    }
   ],
   "source": [
    "# 해결책 3 - 3항 연산자\n",
    "\n",
    "# 중첩 3항 연산자\n",
    "# true_value if condition1 else true_value2 if condition2 else false_value\n",
    "\n",
    "score = 78\n",
    "grade = \"A\" if score >=90 else \\\n",
    "             'B' if score >= 80 else \\\n",
    "                 'C' if score >= 70 else  \\\n",
    "                     'D' if  score >= 60 else 'F'\n",
    "                 # 하나의 줄 여러 줄로 나눠쓰고 싶다면 \\ 쓰고 엔터\n",
    "print(grade)"
   ]
  },
  {
   "source": [
    "### 3) if 응용"
   ],
   "cell_type": "markdown",
   "metadata": {}
  },
  {
   "cell_type": "code",
   "execution_count": 31,
   "metadata": {},
   "outputs": [
    {
     "output_type": "execute_result",
     "data": {
      "text/plain": [
       "datetime.date(2021, 5, 24)"
      ]
     },
     "metadata": {},
     "execution_count": 31
    }
   ],
   "source": [
    "from datetime import date\n",
    "date.today()"
   ]
  },
  {
   "cell_type": "code",
   "execution_count": 37,
   "metadata": {},
   "outputs": [
    {
     "output_type": "execute_result",
     "data": {
      "text/plain": [
       "(2021, 5, 24)"
      ]
     },
     "metadata": {},
     "execution_count": 37
    }
   ],
   "source": [
    "today = date.today()\n",
    "today.year, today.month, today.day"
   ]
  },
  {
   "cell_type": "code",
   "execution_count": 42,
   "metadata": {},
   "outputs": [
    {
     "output_type": "stream",
     "name": "stdout",
     "text": [
      "대학생\n"
     ]
    }
   ],
   "source": [
    "birth_year = int(input('태어난 연도를 입력하세요.'))\n",
    "\n",
    "age = today.year - birth_year +1\n",
    "\n",
    "\n",
    "if 20 <= age <= 26:\n",
    "    print('대학생')\n",
    "elif 17 <= age < 20:\n",
    "    print('고등학생')\n",
    "elif 14 <= age < 17:\n",
    "    print('중학생')\n",
    "elif 8 <= age < 14:\n",
    "    print('초등학생')\n",
    "else:\n",
    "    print('학생이 아님')\n"
   ]
  },
  {
   "source": [
    "#### 문제1.\n",
    "FizzBuzz 1~100 /\n",
    "3의배수 Fizz /\n",
    "5의배수 Buzz /\n",
    "15의 배수 FizzBuzz /\n",
    "아니면 숫자"
   ],
   "cell_type": "markdown",
   "metadata": {}
  },
  {
   "cell_type": "code",
   "execution_count": 49,
   "metadata": {},
   "outputs": [
    {
     "output_type": "stream",
     "name": "stdout",
     "text": [
      "1\n2\nFizz\n4\nBuzz\nFizz\n7\n8\nFizz\nBuzz\n11\nFizz\n13\n14\nFizz\n16\n17\nFizz\n19\nBuzz\nFizz\n22\n23\nFizz\nBuzz\n26\nFizz\n28\n29\nFizz\n31\n32\nFizz\n34\nBuzz\nFizz\n37\n38\nFizz\nBuzz\n41\nFizz\n43\n44\nFizz\n46\n47\nFizz\n49\nBuzz\nFizz\n52\n53\nFizz\nBuzz\n56\nFizz\n58\n59\nFizz\n61\n62\nFizz\n64\nBuzz\nFizz\n67\n68\nFizz\nBuzz\n71\nFizz\n73\n74\nFizz\n76\n77\nFizz\n79\nBuzz\nFizz\n82\n83\nFizz\nBuzz\n86\nFizz\n88\n89\nFizz\n91\n92\nFizz\n94\nBuzz\nFizz\n97\n98\nFizz\nBuzz\n"
     ]
    }
   ],
   "source": [
    "# if 문 쓴 순서가 틀렸음\n",
    "for i in range(1,101):\n",
    "    if i % 3 == 0:\n",
    "        print('Fizz')\n",
    "    elif i % 5 == 0:\n",
    "        print('Buzz')\n",
    "    elif i % 3 and i % 5 == 0:\n",
    "        print('FizzBuzz')\n",
    "    else:\n",
    "        print(i)"
   ]
  },
  {
   "cell_type": "code",
   "execution_count": 52,
   "metadata": {},
   "outputs": [
    {
     "output_type": "stream",
     "name": "stdout",
     "text": [
      "1\n2\nFizz\n4\nBuzz\nFizz\n7\n8\nFizz\nBuzz\n11\nFizz\n13\n14\nFizzBuzz\n16\n17\nFizz\n19\nBuzz\nFizz\n22\n23\nFizz\nBuzz\n26\nFizz\n28\n29\nFizzBuzz\n31\n32\nFizz\n34\nBuzz\nFizz\n37\n38\nFizz\nBuzz\n41\nFizz\n43\n44\nFizzBuzz\n46\n47\nFizz\n49\nBuzz\nFizz\n52\n53\nFizz\nBuzz\n56\nFizz\n58\n59\nFizzBuzz\n61\n62\nFizz\n64\nBuzz\nFizz\n67\n68\nFizz\nBuzz\n71\nFizz\n73\n74\nFizzBuzz\n76\n77\nFizz\n79\nBuzz\nFizz\n82\n83\nFizz\nBuzz\n86\nFizz\n88\n89\nFizzBuzz\n91\n92\nFizz\n94\nBuzz\nFizz\n97\n98\nFizz\nBuzz\n"
     ]
    }
   ],
   "source": [
    "for i in range(1,101):\n",
    "    if i % 3 == 0 and i % 5 == 0:\n",
    "        print('FizzBuzz')\n",
    "    elif i % 3 == 0:\n",
    "        print('Fizz')\n",
    "    elif i % 5 == 0:\n",
    "        print('Buzz')\n",
    "    else:\n",
    "        print(i)"
   ]
  },
  {
   "cell_type": "code",
   "execution_count": 53,
   "metadata": {},
   "outputs": [
    {
     "output_type": "stream",
     "name": "stdout",
     "text": [
      "1\n2\nFizz\n4\nBuzz\nFizz\n7\n8\nFizz\nBuzz\n11\nFizz\n13\n14\nFizzBuzz\n16\n17\nFizz\n19\nBuzz\nFizz\n22\n23\nFizz\nBuzz\n26\nFizz\n28\n29\nFizzBuzz\n31\n32\nFizz\n34\nBuzz\nFizz\n37\n38\nFizz\nBuzz\n41\nFizz\n43\n44\nFizzBuzz\n46\n47\nFizz\n49\nBuzz\nFizz\n52\n53\nFizz\nBuzz\n56\nFizz\n58\n59\nFizzBuzz\n61\n62\nFizz\n64\nBuzz\nFizz\n67\n68\nFizz\nBuzz\n71\nFizz\n73\n74\nFizzBuzz\n76\n77\nFizz\n79\nBuzz\nFizz\n82\n83\nFizz\nBuzz\n86\nFizz\n88\n89\nFizzBuzz\n91\n92\nFizz\n94\nBuzz\nFizz\n97\n98\nFizz\nBuzz\n"
     ]
    }
   ],
   "source": [
    "for i in range(1, 101):\n",
    "    print('Fizz'*(i % 3 == 0) + 'Buzz'*(i % 5 == 0) or i)\n",
    "                  # True = 1\n",
    "           #'Fizz'*1 = 'Fizz'\n",
    "# False = 0"
   ]
  }
 ]
}