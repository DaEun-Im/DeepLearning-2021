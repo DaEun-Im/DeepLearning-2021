{
 "metadata": {
  "language_info": {
   "codemirror_mode": {
    "name": "ipython",
    "version": 3
   },
   "file_extension": ".py",
   "mimetype": "text/x-python",
   "name": "python",
   "nbconvert_exporter": "python",
   "pygments_lexer": "ipython3",
   "version": "3.8.5"
  },
  "orig_nbformat": 2,
  "kernelspec": {
   "name": "python385jvsc74a57bd0dca0ade3e726a953b501b15e8e990130d2b7799f14cfd9f4271676035ebe5511",
   "display_name": "Python 3.8.5 64-bit ('base': conda)"
  }
 },
 "nbformat": 4,
 "nbformat_minor": 2,
 "cells": [
  {
   "source": [
    "# 반복문"
   ],
   "cell_type": "markdown",
   "metadata": {}
  },
  {
   "source": [
    "## Sequence 자료형 : 값이 연속적으로 이어진 자료형\n",
    "\n",
    "- 리스트\n",
    "- range\n",
    "- 문자열\n",
    "- tuple\n"
   ],
   "cell_type": "markdown",
   "metadata": {}
  },
  {
   "source": [
    "### for 문\n",
    "for i in Sequence :\n",
    "\n",
    "\n",
    "ex. for i in range(1,101):"
   ],
   "cell_type": "markdown",
   "metadata": {}
  },
  {
   "source": [
    "# for 변수 in 리스트(또는 튜플, 문자열):\n",
    "#      수행할 문장1\n",
    "#      수행할 문장2\n",
    "#      ..."
   ],
   "cell_type": "code",
   "metadata": {},
   "execution_count": 2,
   "outputs": []
  },
  {
   "cell_type": "code",
   "execution_count": 3,
   "metadata": {},
   "outputs": [
    {
     "output_type": "stream",
     "name": "stdout",
     "text": [
      "Hello World.\nHello World.\nHello World.\nHello World.\nHello World.\n"
     ]
    }
   ],
   "source": [
    "for i in range(5):\n",
    "    print('Hello World.')"
   ]
  },
  {
   "cell_type": "code",
   "execution_count": 4,
   "metadata": {},
   "outputs": [
    {
     "output_type": "stream",
     "name": "stdout",
     "text": [
      "0\n1\n2\n3\n4\n"
     ]
    }
   ],
   "source": [
    "for i in range(5):\n",
    "    print(i)"
   ]
  },
  {
   "cell_type": "code",
   "execution_count": 9,
   "metadata": {},
   "outputs": [
    {
     "output_type": "stream",
     "name": "stdout",
     "text": [
      "1\n2\n3\n4\n5\n"
     ]
    }
   ],
   "source": [
    "# range(시작 숫자, 끝 숫자 + 증가분 , 증가분)\n",
    "# 1에서 부터 5까지 출력\n",
    "for i in range(1,6):\n",
    "    print(i)"
   ]
  },
  {
   "cell_type": "code",
   "execution_count": 12,
   "metadata": {},
   "outputs": [
    {
     "output_type": "stream",
     "name": "stdout",
     "text": [
      "1\n3\n5\n7\n9\n"
     ]
    }
   ],
   "source": [
    "# 리스트\n",
    "for i in [1, 3, 5, 7, 9]:\n",
    "    print(i)"
   ]
  },
  {
   "cell_type": "code",
   "execution_count": 14,
   "metadata": {},
   "outputs": [
    {
     "output_type": "stream",
     "name": "stdout",
     "text": [
      "1\n3\n5\n7\n9\n"
     ]
    }
   ],
   "source": [
    "# 튜플\n",
    "for i in (1, 3, 5, 7, 9):\n",
    "    print(i)"
   ]
  },
  {
   "cell_type": "code",
   "execution_count": 15,
   "metadata": {},
   "outputs": [
    {
     "output_type": "stream",
     "name": "stdout",
     "text": [
      "H\ne\nl\nl\no\n"
     ]
    }
   ],
   "source": [
    "#문자열\n",
    "for char in 'Hello':\n",
    "    print(char)"
   ]
  },
  {
   "cell_type": "code",
   "execution_count": 17,
   "metadata": {},
   "outputs": [
    {
     "output_type": "stream",
     "name": "stdout",
     "text": [
      "I\nlove\nyou\n"
     ]
    }
   ],
   "source": [
    "# 리스트 결과가 나오는 구문\n",
    "for s in 'I love you'.split():     # split() 결과 리스트로 출력됨\n",
    "    print(s)"
   ]
  },
  {
   "source": [
    "### while 문"
   ],
   "cell_type": "markdown",
   "metadata": {}
  },
  {
   "cell_type": "code",
   "execution_count": 19,
   "metadata": {},
   "outputs": [],
   "source": [
    "# while True:\n",
    "#   수행코드 -> 무한반복\n",
    "# 조건이 만족하는 동안 명령 수행하고, 해당 조건이 거짓일 경우 반복 명령문을 더는 수행하지 않는 구문\n"
   ]
  },
  {
   "cell_type": "code",
   "execution_count": 23,
   "metadata": {},
   "outputs": [
    {
     "output_type": "stream",
     "name": "stdout",
     "text": [
      "1\n2\n3\n4\n5\n"
     ]
    }
   ],
   "source": [
    "# for i in range(1,6):\n",
    "#     print(i)\n",
    "\n",
    "i = 1\n",
    "while i < 6:\n",
    "    print(i)\n",
    "    i += 1\n",
    "\n",
    "# 횟수가 정해지지 않았을 때 사용하는 것이 while\n"
   ]
  },
  {
   "source": [
    "### break문: 반복문에서 논리적으로 반복을 종료하는 방법"
   ],
   "cell_type": "markdown",
   "metadata": {}
  },
  {
   "cell_type": "code",
   "execution_count": 26,
   "metadata": {},
   "outputs": [
    {
     "output_type": "stream",
     "name": "stdout",
     "text": [
      "15\n"
     ]
    }
   ],
   "source": [
    "# 사용자가 숫자를 입력\n",
    "# 숫자가 나오면 계속 더하고\n",
    "# 0 이 나오면 합계를 출력하는 프로그램\n",
    "\n",
    "# 0 이 나오면 빠져나오게 해야함.\n",
    "# 몇 번을 돌려야하는지 모를 때는 while문 사용\n",
    "\n",
    "sum = 0\n",
    "while True:    #무한루프 돌리기\n",
    "    num = int( input('정수를 입력하세요'))\n",
    "    if num == 0:\n",
    "        break       # 루프 탈출\n",
    "    sum += num      # sum = sum + num    # 최초의 sum 값을 셋팅해줘야함\n",
    "print(sum)"
   ]
  },
  {
   "source": [
    "### continue문: 특정 조건에서 남은 명령을 건너뛰고 다음 반복문을 수행"
   ],
   "cell_type": "markdown",
   "metadata": {}
  }
 ]
}