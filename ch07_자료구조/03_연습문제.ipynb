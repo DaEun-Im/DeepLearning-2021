{
 "metadata": {
  "language_info": {
   "codemirror_mode": {
    "name": "ipython",
    "version": 3
   },
   "file_extension": ".py",
   "mimetype": "text/x-python",
   "name": "python",
   "nbconvert_exporter": "python",
   "pygments_lexer": "ipython3",
   "version": "3.8.5"
  },
  "orig_nbformat": 2,
  "kernelspec": {
   "name": "python385jvsc74a57bd0dca0ade3e726a953b501b15e8e990130d2b7799f14cfd9f4271676035ebe5511",
   "display_name": "Python 3.8.5 64-bit ('base': conda)"
  }
 },
 "nbformat": 4,
 "nbformat_minor": 2,
 "cells": [
  {
   "source": [
    "1. 시저 암호는, 고대 로마의 황제 줄리어스 시저가 만들어 낸 암호인데,\n",
    "예를 들어 알파벳 A를 입력했을 때, 그 알파벳의 n개 뒤에 오는 알파벳이 출력되는 것이다.\n",
    "예를 들어 바꾸려는 단어가 \"CAT\"이고, n을 5로 지정하였을 때 \"HFY\"가 되는 것이다.\n",
    "어떠한 암호를 만들 문장과 n을 입력했을 때 암호를 만들어 출력하는 프로그램을 작성하시오.\n",
    "\n",
    "- 입력: 화면에서 문자열과 n값을 입력받는다. (예: ROSE 5)\n",
    "- 출력: 암호화된 문자열을 출력"
   ],
   "cell_type": "markdown",
   "metadata": {}
  },
  {
   "cell_type": "code",
   "execution_count": 24,
   "metadata": {},
   "outputs": [
    {
     "output_type": "stream",
     "name": "stdout",
     "text": [
      "v|jwy~\n"
     ]
    }
   ],
   "source": [
    "code = input(\"암호로 지정할 문장을 입력하세요.\")\n",
    "n = int(input('숫자를 입력하세오.'))\n",
    "\n",
    "word = ''\n",
    "for i in code:\n",
    "    word = word + chr(ord(i)+n)\n",
    "print(word)"
   ]
  },
  {
   "source": [
    "2. Unit 24 심사문제5\n",
    "\n",
    "표준 입력으로 문자열이 입력됩니다. 입력된 문자열에서 'the'의 개수를 출력하는 프로그램을 만드세요(input에서 안내 문자열은 출력하지 않아야 합니다). 단, 모든 문자가 소문자인 'the'만 찾으면 되며 'them', 'there', 'their' 등은 포함하지 않아야 합니다.\n",
    "\n"
   ],
   "cell_type": "markdown",
   "metadata": {}
  },
  {
   "cell_type": "code",
   "execution_count": 25,
   "metadata": {},
   "outputs": [
    {
     "output_type": "stream",
     "name": "stdout",
     "text": [
      "1\n"
     ]
    }
   ],
   "source": [
    "text = input().split()\n",
    "\n",
    "count=0\n",
    "\n",
    "for i in text:\n",
    "    if i.rstrip('.,') == 'the':\n",
    "        count = count + 1\n",
    "\n",
    "print(count)"
   ]
  },
  {
   "cell_type": "code",
   "execution_count": null,
   "metadata": {},
   "outputs": [],
   "source": [
    "import re\n",
    "\n",
    "text = re.sub('[\\'.,\\n]','',text)\n",
    "              '[^A-Za-z ]','',text\n",
    "            # 알파벳,스페이스가 아닌것들은 없애기\n",
    "\n",
    "#https://dojang.io/mod/page/view.php?id=2299"
   ]
  },
  {
   "cell_type": "code",
   "execution_count": null,
   "metadata": {},
   "outputs": [],
   "source": []
  },
  {
   "cell_type": "code",
   "execution_count": 82,
   "metadata": {},
   "outputs": [
    {
     "output_type": "execute_result",
     "data": {
      "text/plain": [
       "1"
      ]
     },
     "metadata": {},
     "execution_count": 82
    }
   ],
   "source": [
    "sentence = input('문장을 입력하세요.')\n",
    "\n",
    "sentence.lower().count('the')"
   ]
  },
  {
   "source": [
    "3. Unit 24 심사문제6\n",
    "\n",
    "표준 입력으로 물품 가격 여러 개가 문자열 한 줄로 입력되고, 각 가격은 ;(세미콜론)으로 구분되어 있습니다. 입력된 가격을 높은 가격순으로 출력하는 프로그램을 만드세요(input에서 안내 문자열은 출력하지 않아야 합니다). 이때 가격은 길이를 9로 만든 뒤 오른쪽으로 정렬하고 천단위로 ,(콤마)를 넣으세요."
   ],
   "cell_type": "markdown",
   "metadata": {}
  },
  {
   "cell_type": "code",
   "execution_count": 86,
   "metadata": {},
   "outputs": [
    {
     "output_type": "stream",
     "name": "stdout",
     "text": [
      "   70,000\n    5,500\n      200\n       10\n"
     ]
    }
   ],
   "source": [
    "price = list( map(int, ( input('각 물건의 가격을 ;로 구분하여 입력하세요: ').split(';'))) )\n",
    "\n",
    "for i in price:\n",
    "    print('{0:>9,}'.format(i))\n",
    "    print(f'{price:9,d}')\n",
    "#https://dojang.io/mod/page/view.php?id=2300"
   ]
  },
  {
   "source": [
    "4. Unit 12 심사문제\n",
    "\n",
    "표준 입력으로 문자열 여러 개와 숫자(실수) 여러 개가 두 줄로 입력됩니다. 입력된 첫 번째 줄은 키, 두 번째 줄은 값으로 하여 딕셔너리를 생성한 뒤 딕셔너리를 출력하는 프로그램을 만드세요. input().split()의 결과를 변수 한 개에 저장하면 리스트로 저장됩니다."
   ],
   "cell_type": "markdown",
   "metadata": {}
  },
  {
   "cell_type": "code",
   "execution_count": 28,
   "metadata": {},
   "outputs": [
    {
     "output_type": "stream",
     "name": "stdout",
     "text": [
      "{}\n"
     ]
    }
   ],
   "source": [
    "keys = input().split()\n",
    "values = map(float, input().split())\n",
    "\n",
    "x = dict(zip(keys, values))\n",
    "\n",
    "print(x)"
   ]
  },
  {
   "source": [
    "5. Unit 25 심사문제\n",
    "\n",
    "표준 입력으로 문자열 여러 개와 숫자 여러 개가 두 줄로 입력되고, 첫 번째 줄은 키, 두 번째 줄은 값으로 하여 딕셔너리를 생성합니다. 다음 코드를 완성하여 딕셔너리에서 키가 'delta'인 키-값 쌍과 값이 30인 키-값 쌍을 삭제하도록 만드세요.\n",
    "\n",
    "\n",
    "\n",
    "keys = input().split()\n",
    "\n",
    "values = map(int, input().split())\n",
    " \n",
    "\n",
    "x = dict(zip(keys, values))\n",
    " \n",
    "\n",
    "\\________________\n",
    "\n",
    "\\________________\n",
    " \n",
    "\n",
    "print(x)\n"
   ],
   "cell_type": "markdown",
   "metadata": {}
  },
  {
   "cell_type": "code",
   "execution_count": 88,
   "metadata": {},
   "outputs": [
    {
     "output_type": "execute_result",
     "data": {
      "text/plain": [
       "{'seokbong': 20}"
      ]
     },
     "metadata": {},
     "execution_count": 88
    }
   ],
   "source": [
    "keys = input().split()\n",
    "values = map(int, input().split())\n",
    "\n",
    "x = dict( zip(keys, values) )    # 딕셔너리로 변환\n",
    "\n",
    "#x.items()   #items 함수는 Key와 Value의 쌍을 튜플로 묶은 값을 dict_items 객체로 돌려준다.\n",
    "\n",
    "# 키가 delta인 값 삭제\n",
    "del x['delta']\n",
    "\n",
    "# 값이 30인 키-쌍 삭제\n",
    "for key, value in x.items():\n",
    "    if value == 30:\n",
    "        del x[key]\n",
    "        break\n",
    "x\n",
    "\n",
    "\n",
    "#https://dojang.io/mod/page/view.php?id=2308"
   ]
  },
  {
   "cell_type": "code",
   "execution_count": null,
   "metadata": {},
   "outputs": [],
   "source": [
    "# for key, value in x.items():\n",
    "#     if value == 30:\n",
    "#         found_key = key\n",
    "# del x[key]"
   ]
  },
  {
   "source": [
    "#  zip () : 반복 가능한 객체(iterable) 여러 개를 넣으면 element 순서대로 튜플로 묶어서 반환\n",
    "#          즉, 동일한 개수로 이루어진 자료형을 묶어 주는 역할    \n",
    "#          인덱스를 기준으로 리스트를 순서대로 가져온다고 생각     "
   ],
   "cell_type": "code",
   "metadata": {},
   "execution_count": 44,
   "outputs": []
  }
 ]
}