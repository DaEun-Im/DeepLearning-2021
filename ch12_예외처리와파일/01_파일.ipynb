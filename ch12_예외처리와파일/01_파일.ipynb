{
 "metadata": {
  "language_info": {
   "codemirror_mode": {
    "name": "ipython",
    "version": 3
   },
   "file_extension": ".py",
   "mimetype": "text/x-python",
   "name": "python",
   "nbconvert_exporter": "python",
   "pygments_lexer": "ipython3",
   "version": "3.8.5"
  },
  "orig_nbformat": 2,
  "kernelspec": {
   "name": "python385jvsc74a57bd0dca0ade3e726a953b501b15e8e990130d2b7799f14cfd9f4271676035ebe5511",
   "display_name": "Python 3.8.5 64-bit ('base': conda)"
  }
 },
 "nbformat": 4,
 "nbformat_minor": 2,
 "cells": [
  {
   "source": [
    "# 파일다루기"
   ],
   "cell_type": "markdown",
   "metadata": {}
  },
  {
   "source": [
    "- 텍스트 파일 읽기"
   ],
   "cell_type": "markdown",
   "metadata": {}
  },
  {
   "cell_type": "code",
   "execution_count": 1,
   "metadata": {},
   "outputs": [
    {
     "output_type": "stream",
     "name": "stdout",
     "text": [
      "I Have a Dream, a song to sing\nTo help me cope, with anything\nIf you see the wonder, of a fairy tale\nYou can take the future, even if you fail\nI believe in angels\nSomething good in everything I see\nI believe in angels\nWhen I know the time is right for me\nI'll cross the stream, I Have a Dream\n"
     ]
    }
   ],
   "source": [
    "f = open('lyrics.txt', 'r')\n",
    "contents = f.read()\n",
    "print(contents)\n",
    "f.close()"
   ]
  },
  {
   "cell_type": "code",
   "execution_count": 5,
   "metadata": {},
   "outputs": [
    {
     "output_type": "stream",
     "name": "stdout",
     "text": [
      "<class 'str'>\nI Have a Dream, a song to sing\nTo help me cope, with anything\nIf you see the wonder, of a fairy tale\nYou can take the future, even if you fail\nI believe in angels\nSomething good in everything I see\nI believe in angels\nWhen I know the time is right for me\nI'll cross the stream, I Have a Dream\n"
     ]
    }
   ],
   "source": [
    "with open('lyrics.txt','r') as my_file:\n",
    "    contents = my_file.read()\n",
    "    print(type(contents))\n",
    "    print(contents)"
   ]
  },
  {
   "cell_type": "code",
   "execution_count": 6,
   "metadata": {},
   "outputs": [
    {
     "output_type": "stream",
     "name": "stdout",
     "text": [
      "<class 'list'>\n['I Have a Dream, a song to sing\\n', 'To help me cope, with anything\\n', 'If you see the wonder, of a fairy tale\\n', 'You can take the future, even if you fail\\n', 'I believe in angels\\n', 'Something good in everything I see\\n', 'I believe in angels\\n', 'When I know the time is right for me\\n', \"I'll cross the stream, I Have a Dream\"]\n"
     ]
    }
   ],
   "source": [
    "# 한 줄씩 읽어서 리스트로 반환 - readlines\n",
    "with open('lyrics.txt', 'r') as my_file:\n",
    "    contents_list = my_file.readlines()\n",
    "    print(type(contents_list))\n",
    "    print(contents_list)"
   ]
  },
  {
   "cell_type": "code",
   "execution_count": 8,
   "metadata": {},
   "outputs": [
    {
     "output_type": "execute_result",
     "data": {
      "text/plain": [
       "'I Have a Dream, a song to sing\\n'"
      ]
     },
     "metadata": {},
     "execution_count": 8
    }
   ],
   "source": [
    "contents_list[0]"
   ]
  },
  {
   "cell_type": "code",
   "execution_count": 11,
   "metadata": {},
   "outputs": [
    {
     "output_type": "stream",
     "name": "stdout",
     "text": [
      "1 === I Have a Dream, a song to sing\n2 === To help me cope, with anything\n3 === If you see the wonder, of a fairy tale\n4 === You can take the future, even if you fail\n5 === I believe in angels\n6 === Something good in everything I see\n7 === I believe in angels\n8 === When I know the time is right for me\n9 === I'll cross the stream, I Have a Dream\n"
     ]
    }
   ],
   "source": [
    "# 한 줄 단위로 읽기 - readline\n",
    "with open('lyrics.txt', 'r') as my_file:\n",
    "    number = 1\n",
    "    while True:   #무한루프\n",
    "        line = my_file.readline()  #한 줄씩 읽기\n",
    "        if not line:  #아무런 데이터도 읽어오지 못하면\n",
    "            break    #스탑\n",
    "        print(number, '===', line.replace('\\n',''))\n",
    "        number += 1"
   ]
  },
  {
   "source": [
    "- 파일 쓰기"
   ],
   "cell_type": "markdown",
   "metadata": {}
  },
  {
   "cell_type": "code",
   "execution_count": 12,
   "metadata": {},
   "outputs": [],
   "source": [
    "with open('new_file.txt','w') as f:\n",
    "    f.write('A quick brown fox jumps over the lazy dog.')"
   ]
  },
  {
   "cell_type": "code",
   "execution_count": 16,
   "metadata": {},
   "outputs": [],
   "source": [
    "#append 모드가 아닌 write 모드일 경우 덮어쓰기 한다\n",
    "with open('new_file.txt','w', encoding='utf8') as f:\n",
    "    f.write('우리집말랑콩떡이찹쌀떡')"
   ]
  },
  {
   "cell_type": "code",
   "execution_count": 17,
   "metadata": {},
   "outputs": [],
   "source": [
    "#append모드 -> 'a'\n",
    "with open('new_file.txt','a', encoding='utf8') as f:\n",
    "    f.write('우리집말랑콩떡이찹쌀떡')"
   ]
  },
  {
   "cell_type": "code",
   "execution_count": 18,
   "metadata": {},
   "outputs": [],
   "source": [
    "with open('new_file.txt','a') as f:\n",
    "    f.write('A quick brown fox jumps over the lazy dog.\\n')\n",
    "    f.write('우리집말랑콩떡이찹쌀떡 \\n')"
   ]
  },
  {
   "source": [
    "- 디렉토리 만들기"
   ],
   "cell_type": "markdown",
   "metadata": {}
  },
  {
   "cell_type": "code",
   "execution_count": 20,
   "metadata": {},
   "outputs": [],
   "source": [
    "import os\n",
    "os.mkdir('subdir')\n",
    "\n",
    "#os.getcwd(): 현재 작업 디렉토리 확인\n",
    "#os.chdir(): 현재 작업 디렉토리 변경\n",
    "#os.mkdir(): 폴더 생성"
   ]
  },
  {
   "cell_type": "code",
   "execution_count": 23,
   "metadata": {},
   "outputs": [],
   "source": [
    "if not os.path.exists('subdir'): #파일이나 폴더의 존재유무 파ㅏㄴ단\n",
    "    os.mkdir('subdir')"
   ]
  },
  {
   "cell_type": "code",
   "execution_count": 24,
   "metadata": {},
   "outputs": [
    {
     "output_type": "stream",
     "name": "stdout",
     "text": [
      "['I Have a Dream, a song to sing\\n', 'To help me cope, with anything\\n', 'If you see the wonder, of a fairy tale\\n', 'You can take the future, even if you fail\\n', 'I believe in angels\\n', 'Something good in everything I see\\n', 'I believe in angels\\n', 'When I know the time is right for me\\n', \"I'll cross the stream, I Have a Dream\"]\n"
     ]
    }
   ],
   "source": [
    "# lyrics.txt 첫번째 줄 , 세번째 줄 , 다섯번째줄 .... subdir밑에 lyrics.odd_txt 파일로 만들기\n",
    "\n",
    "with open('lyrics.txt','r') as f:\n",
    "    lyrics = f.readlines()\n",
    "    print(lyrics)\n"
   ]
  },
  {
   "cell_type": "code",
   "execution_count": 27,
   "metadata": {},
   "outputs": [
    {
     "output_type": "execute_result",
     "data": {
      "text/plain": [
       "9"
      ]
     },
     "metadata": {},
     "execution_count": 27
    }
   ],
   "source": [
    "len(lyrics)"
   ]
  },
  {
   "cell_type": "code",
   "execution_count": 44,
   "metadata": {},
   "outputs": [],
   "source": [
    "for i in range(1,len(lyrics)):\n",
    "    if i % 2 != 0:\n",
    "        with open('subdir/lyrics_odd','a') as f_odd:\n",
    "            f_odd.write(lyrics[i])"
   ]
  },
  {
   "cell_type": "code",
   "execution_count": 63,
   "metadata": {},
   "outputs": [],
   "source": [
    "#정답\n",
    "with open('lyrics.txt','r') as rf:\n",
    "    lines = rf.readlines()  #readlines() 한줄씩 읽어와서 리스트로 반환\n",
    "\n",
    "if not os.path.exists('subdir'):\n",
    "    os.mkdir('subdir')   #디렉토리 생성\n",
    "\n",
    "with open('subdir/lyrics_odd.txt','a') as wf:\n",
    "    for index, line in enumerate(lines):    #문장과 인덱스를 함께 가져오는 함수 enumerate\n",
    "        if index % 2 == 0 :\n",
    "            wf.write(line)"
   ]
  },
  {
   "source": [
    "- binary data - pickle 모듈 활용"
   ],
   "cell_type": "markdown",
   "metadata": {}
  },
  {
   "cell_type": "code",
   "execution_count": 70,
   "metadata": {},
   "outputs": [],
   "source": [
    "test_list = [1, True, 3.14, 'String']"
   ]
  },
  {
   "cell_type": "code",
   "execution_count": 71,
   "metadata": {},
   "outputs": [],
   "source": [
    "import pickle\n",
    "#텍스트 이외의 자료형을 파일로 저장하기 위하여 pickle이라는 모듈을 제공\n",
    "\n",
    "with open('list.pickle','wb') as bf:\n",
    "    pickle.dump(test_list, bf)\n",
    "\n",
    "#입력\n",
    "#pickle.dump(data, file)"
   ]
  },
  {
   "cell_type": "code",
   "execution_count": 73,
   "metadata": {},
   "outputs": [
    {
     "output_type": "execute_result",
     "data": {
      "text/plain": [
       "[1, True, 3.14, 'String']"
      ]
     },
     "metadata": {},
     "execution_count": 73
    }
   ],
   "source": [
    "with open('list.pickle','rb') as bf:\n",
    "    x = pickle.load(bf)\n",
    "\n",
    "x\n",
    "\n",
    "#로드\n",
    "#변수 = pickle.load(file)\n",
    "#한줄씩 파일을 읽어옴"
   ]
  }
 ]
}