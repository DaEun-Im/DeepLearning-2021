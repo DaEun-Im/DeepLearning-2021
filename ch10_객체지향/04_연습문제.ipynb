{
 "metadata": {
  "language_info": {
   "codemirror_mode": {
    "name": "ipython",
    "version": 3
   },
   "file_extension": ".py",
   "mimetype": "text/x-python",
   "name": "python",
   "nbconvert_exporter": "python",
   "pygments_lexer": "ipython3",
   "version": "3.8.5"
  },
  "orig_nbformat": 2,
  "kernelspec": {
   "name": "python385jvsc74a57bd0dca0ade3e726a953b501b15e8e990130d2b7799f14cfd9f4271676035ebe5511",
   "display_name": "Python 3.8.5 64-bit ('base': conda)"
  }
 },
 "nbformat": 4,
 "nbformat_minor": 2,
 "cells": [
  {
   "cell_type": "code",
   "execution_count": null,
   "metadata": {},
   "outputs": [],
   "source": [
    "# unit 13~18"
   ]
  },
  {
   "cell_type": "code",
   "execution_count": 44,
   "metadata": {},
   "outputs": [
    {
     "output_type": "stream",
     "name": "stdout",
     "text": [
      "24000\n"
     ]
    }
   ],
   "source": [
    "#13\n",
    "price = int(input())\n",
    "coupon = input()\n",
    "\n",
    "import re\n",
    "sale = int(re.sub('[A-Za-z]','',coupon))\n",
    "\n",
    "print(price-sale)"
   ]
  },
  {
   "cell_type": "code",
   "execution_count": 26,
   "metadata": {},
   "outputs": [
    {
     "output_type": "stream",
     "name": "stdout",
     "text": [
      "불합격\n"
     ]
    }
   ],
   "source": [
    "#14\n",
    "\n",
    "korean, english, math, science = map(int,input().split())\n",
    "\n",
    "average = (korean + english + math + science)/4\n",
    "\n",
    "if korean<0 or korean>100 or english<0 or english>100 \\\n",
    "    or math<0 or math>100 or science<0 or science>100:\n",
    "    print('잘못된 점수입니다.')\n",
    "elif average >= 80:\n",
    "    print('합격')\n",
    "else:\n",
    "    print('불합격')\n"
   ]
  },
  {
   "cell_type": "code",
   "execution_count": 29,
   "metadata": {},
   "outputs": [
    {
     "output_type": "stream",
     "name": "stdout",
     "text": [
      "8350\n"
     ]
    }
   ],
   "source": [
    "#15\n",
    "age = int(input())\n",
    "balance = 9000    # 교통카드 잔액\n",
    "\n",
    "if age >= 7 and age <= 12:\n",
    "    balance = balance - 650\n",
    "elif age >= 13 and age <= 18:\n",
    "    balance = balance - 1050\n",
    "elif age >= 19:\n",
    "    balance = balance - 1250\n",
    "\n",
    "print(balance)"
   ]
  },
  {
   "cell_type": "code",
   "execution_count": 31,
   "metadata": {},
   "outputs": [
    {
     "output_type": "stream",
     "name": "stdout",
     "text": [
      " 7 * 1 = 7\n 7 * 2 = 14\n 7 * 3 = 21\n 7 * 4 = 28\n 7 * 5 = 35\n 7 * 6 = 42\n 7 * 7 = 49\n 7 * 8 = 56\n 7 * 9 = 63\n"
     ]
    }
   ],
   "source": [
    "#16\n",
    "n = int(input())\n",
    "\n",
    "for i in range(1,10):\n",
    "    print(f' {n} * {i} = {n*i}' )\n"
   ]
  },
  {
   "cell_type": "code",
   "execution_count": 37,
   "metadata": {},
   "outputs": [
    {
     "output_type": "stream",
     "name": "stdout",
     "text": [
      "12150\n10800\n9450\n8100\n6750\n5400\n4050\n2700\n1350\n0\n"
     ]
    }
   ],
   "source": [
    "#17\n",
    "#표준 입력으로 금액(정수)이 입력됩니다. 1회당 요금은 1,350원이고, 교통카드를 사용했을 때마다의 잔액을 각 줄에 출력하는 프로그램을 만드세요(input에서 안내 문자열은 출력하지 않아야 합니다). 단, 최초 금액은 출력하지 않아야 합니다. 그리고 잔액은 음수가 될 수 없으며 잔액이 부족하면 출력을 끝냅니다.\n",
    "\n",
    "balance = int(input())\n",
    "\n",
    "while balance >= 1350:\n",
    "    balance = balance - 1350\n",
    "    print(balance)"
   ]
  },
  {
   "cell_type": "code",
   "execution_count": null,
   "metadata": {},
   "outputs": [],
   "source": [
    "#18\n",
    "start, stop = map(int, input().split())\n",
    " \n",
    "i = start\n",
    " \n",
    "while True:\n",
    "\n",
    "_____________________\n",
    "_____________________\n",
    "_____________________\n",
    "_____________________\n",
    "    print(i, end=' ')\n",
    "    i += 1"
   ]
  }
 ]
}