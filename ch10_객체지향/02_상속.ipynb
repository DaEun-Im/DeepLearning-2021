{
 "metadata": {
  "language_info": {
   "codemirror_mode": {
    "name": "ipython",
    "version": 3
   },
   "file_extension": ".py",
   "mimetype": "text/x-python",
   "name": "python",
   "nbconvert_exporter": "python",
   "pygments_lexer": "ipython3",
   "version": "3.8.5"
  },
  "orig_nbformat": 2,
  "kernelspec": {
   "name": "python385jvsc74a57bd0dca0ade3e726a953b501b15e8e990130d2b7799f14cfd9f4271676035ebe5511",
   "display_name": "Python 3.8.5 64-bit ('base': conda)"
  }
 },
 "nbformat": 4,
 "nbformat_minor": 2,
 "cells": [
  {
   "source": [
    "### 4.상속"
   ],
   "cell_type": "markdown",
   "metadata": {}
  },
  {
   "cell_type": "code",
   "execution_count": 2,
   "metadata": {},
   "outputs": [
    {
     "output_type": "stream",
     "name": "stdout",
     "text": [
      "안녕하세요?\n공부하기\n"
     ]
    }
   ],
   "source": [
    "class Person:\n",
    "    def greeting(self):  #greeting 메서드\n",
    "        print('안녕하세요?')\n",
    "\n",
    "class Student(Person):   #Student자식, Person부모\n",
    "    def study(self):     #study 메서드\n",
    "        print('공부하기')\n",
    "\n",
    "james = Student()\n",
    "james.greeting()\n",
    "james.study()\n",
    "\n",
    "#Student클래스에는 greeting메서드가 없지만 Person클래스를 상속받았으므로\n",
    "#greeting 메서드 호출할 수 있다."
   ]
  },
  {
   "source": [
    "- 기반 클래스의 속성값 사용하기"
   ],
   "cell_type": "markdown",
   "metadata": {}
  },
  {
   "cell_type": "code",
   "execution_count": 6,
   "metadata": {},
   "outputs": [],
   "source": [
    "class Person2:\n",
    "    def __init__(self):\n",
    "        print('Person2 __init__method')\n",
    "        self.hello = '안녕하세요?'\n",
    "\n",
    "class Student2(Person2):   #자식:Student2, 부모:Person2\n",
    "    def __init__(self):\n",
    "        print('Student2__init__method')\n",
    "        self.school = '파이썬'"
   ]
  },
  {
   "cell_type": "code",
   "execution_count": 7,
   "metadata": {},
   "outputs": [
    {
     "output_type": "stream",
     "name": "stdout",
     "text": [
      "Student2__init__method\n"
     ]
    },
    {
     "output_type": "execute_result",
     "data": {
      "text/plain": [
       "'파이썬'"
      ]
     },
     "metadata": {},
     "execution_count": 7
    }
   ],
   "source": [
    "maria = Student2()\n",
    "maria.school"
   ]
  },
  {
   "cell_type": "code",
   "execution_count": 5,
   "metadata": {},
   "outputs": [
    {
     "output_type": "error",
     "ename": "AttributeError",
     "evalue": "'Student2' object has no attribute 'hello'",
     "traceback": [
      "\u001b[0;31m---------------------------------------------------------------------------\u001b[0m",
      "\u001b[0;31mAttributeError\u001b[0m                            Traceback (most recent call last)",
      "\u001b[0;32m<ipython-input-5-8d4be38e5301>\u001b[0m in \u001b[0;36m<module>\u001b[0;34m\u001b[0m\n\u001b[0;32m----> 1\u001b[0;31m \u001b[0mmaria\u001b[0m\u001b[0;34m.\u001b[0m\u001b[0mhello\u001b[0m\u001b[0;34m\u001b[0m\u001b[0;34m\u001b[0m\u001b[0m\n\u001b[0m",
      "\u001b[0;31mAttributeError\u001b[0m: 'Student2' object has no attribute 'hello'"
     ]
    }
   ],
   "source": [
    "maria.hello"
   ]
  },
  {
   "cell_type": "code",
   "execution_count": 8,
   "metadata": {},
   "outputs": [],
   "source": [
    "class Person3:\n",
    "    def __init__(self):\n",
    "        print('Person3 __init__method')\n",
    "        self.hello = '안녕하세요?'\n",
    "\n",
    "class Student3(Person3):   #자식:Student2, 부모:Person2\n",
    "    def __init__(self):\n",
    "        super().__init__()\n",
    "        print('Student3__init__method')\n",
    "        self.school ='파이썬'\n",
    "    "
   ]
  },
  {
   "cell_type": "code",
   "execution_count": 9,
   "metadata": {},
   "outputs": [
    {
     "output_type": "stream",
     "name": "stdout",
     "text": [
      "Person3 __init__method\nStudent3__init__method\n"
     ]
    },
    {
     "output_type": "execute_result",
     "data": {
      "text/plain": [
       "'안녕하세요?'"
      ]
     },
     "metadata": {},
     "execution_count": 9
    }
   ],
   "source": [
    "james = Student3()\n",
    "james.hello"
   ]
  },
  {
   "cell_type": "code",
   "execution_count": 11,
   "metadata": {},
   "outputs": [],
   "source": [
    "class Student4(Person3):\n",
    "    def greeting(self):\n",
    "        print(self.hello)"
   ]
  },
  {
   "cell_type": "code",
   "execution_count": 12,
   "metadata": {},
   "outputs": [
    {
     "output_type": "stream",
     "name": "stdout",
     "text": [
      "Person3 __init__method\n안녕하세요?\n"
     ]
    }
   ],
   "source": [
    "maria = Student4()\n",
    "maria.greeting()"
   ]
  },
  {
   "source": [
    "### 4.상속"
   ],
   "cell_type": "markdown",
   "metadata": {}
  },
  {
   "cell_type": "code",
   "execution_count": 13,
   "metadata": {},
   "outputs": [],
   "source": [
    "class Person5:\n",
    "    def greeting(self):\n",
    "        print('안녕하세요?')\n",
    "\n",
    "class Student5(Person5):\n",
    "    def greeting(self):\n",
    "        print('안녕하세요? 저는 학생입니다.')"
   ]
  },
  {
   "cell_type": "code",
   "execution_count": 14,
   "metadata": {},
   "outputs": [
    {
     "output_type": "stream",
     "name": "stdout",
     "text": [
      "안녕하세요? 저는 학생입니다.\n"
     ]
    }
   ],
   "source": [
    "james = Student5()\n",
    "james.greeting()"
   ]
  },
  {
   "cell_type": "code",
   "execution_count": 15,
   "metadata": {},
   "outputs": [],
   "source": [
    "class Student6(Person5):\n",
    "    def greeting(self):\n",
    "        super().greeting()\n",
    "        print('저는 학생입니다.')"
   ]
  },
  {
   "cell_type": "code",
   "execution_count": 17,
   "metadata": {},
   "outputs": [
    {
     "output_type": "stream",
     "name": "stdout",
     "text": [
      "안녕하세요?\n저는 학생입니다.\n"
     ]
    }
   ],
   "source": [
    "maria = Student6()\n",
    "maria.greeting()"
   ]
  }
 ]
}