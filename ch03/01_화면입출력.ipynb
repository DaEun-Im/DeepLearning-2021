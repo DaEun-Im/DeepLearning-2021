{
 "metadata": {
  "language_info": {
   "codemirror_mode": {
    "name": "ipython",
    "version": 3
   },
   "file_extension": ".py",
   "mimetype": "text/x-python",
   "name": "python",
   "nbconvert_exporter": "python",
   "pygments_lexer": "ipython3",
   "version": "3.8.5"
  },
  "orig_nbformat": 2,
  "kernelspec": {
   "name": "python385jvsc74a57bd0dca0ade3e726a953b501b15e8e990130d2b7799f14cfd9f4271676035ebe5511",
   "display_name": "Python 3.8.5 64-bit"
  }
 },
 "nbformat": 4,
 "nbformat_minor": 2,
 "cells": [
  {
   "source": [
    "# 3장. 화면 입출력과 리스트"
   ],
   "cell_type": "markdown",
   "metadata": {}
  },
  {
   "source": [
    "#### 1. 파이썬 프로그래밍 환경\n",
    "## 2. 화면 입출력"
   ],
   "cell_type": "markdown",
   "metadata": {}
  },
  {
   "cell_type": "code",
   "execution_count": 24,
   "metadata": {},
   "outputs": [
    {
     "output_type": "stream",
     "name": "stdout",
     "text": [
      "Enter your name: \n",
      "Hi DaEun How are you?\n",
      "Hi DaEun! How are you?\n"
     ]
    }
   ],
   "source": [
    "# 표준 입력 함수 : input( )\n",
    "\n",
    "print('Enter your name: ')\n",
    "somebody = input()\n",
    "print('Hi', somebody , 'How are you?')\n",
    "\n",
    "\n",
    "somebody = input('Enter your name: ')\n",
    "print(f'Hi {somebody}! How are you?')"
   ]
  },
  {
   "cell_type": "code",
   "execution_count": 21,
   "metadata": {},
   "outputs": [
    {
     "output_type": "stream",
     "name": "stdout",
     "text": [
      "DaEun\nHi DaEun How are you?\n"
     ]
    }
   ],
   "source": [
    "a = input('Enter your name: ')\n",
    "print (a)\n",
    "print('Hi', a , 'How are you?')"
   ]
  },
  {
   "source": [
    "## 3. 화씨온도 변환기"
   ],
   "cell_type": "markdown",
   "metadata": {}
  },
  {
   "cell_type": "code",
   "execution_count": 33,
   "metadata": {},
   "outputs": [
    {
     "output_type": "stream",
     "name": "stdout",
     "text": [
      "섭씨 온도: 30 ==> 화씨온도: 86.0\n"
     ]
    }
   ],
   "source": [
    "# Lab : 화씨온도 변환기\n",
    "# input()함수, print()함수, 간단한 사칙연산을 이용하여 화씨 온도 변환기 프로그램 만들기\n",
    "# 화씨온도 = (섭씨온도 * 1.8) + 32\n",
    "\n",
    "\n",
    "#celsium 타입 문자형\n",
    "celsius = input ('섭씨 온도를 입력하세요.')   #문자열로 들어옴\n",
    "fahrenheit = (float(celsius) * 1.8) + 32      #연산을 위해 celsium 를 실수형으로 변환\n",
    "print(f'섭씨 온도: {celsius} ==> 화씨온도: {fahrenheit}')"
   ]
  },
  {
   "cell_type": "code",
   "execution_count": 34,
   "metadata": {},
   "outputs": [
    {
     "output_type": "stream",
     "name": "stdout",
     "text": [
      "섭씨온도: 30.0 ==> 화씨온도: 86.0\n"
     ]
    }
   ],
   "source": [
    "#celsius 타입 실수형\n",
    "celsius = float( input('섭씨 온도를 입력하세요: ') )   #입력받은 문자형 온도를 실수형으로 변환하여 출력\n",
    "fahrenheit = (celsius*1.8) + 32\n",
    "print(f'섭씨온도: {celsius} ==> 화씨온도: {fahrenheit}')"
   ]
  }
 ]
}